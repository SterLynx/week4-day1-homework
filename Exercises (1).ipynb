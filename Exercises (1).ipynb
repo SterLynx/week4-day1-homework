{
 "cells": [
  {
   "cell_type": "code",
   "execution_count": 93,
   "metadata": {},
   "outputs": [],
   "source": [
    "import re"
   ]
  },
  {
   "cell_type": "markdown",
   "metadata": {},
   "source": [
    "### Exercise 1"
   ]
  },
  {
   "cell_type": "markdown",
   "metadata": {},
   "source": [
    "Write a function that takes in a tweet and returns a list of the hashtags in the tweet<br>\n",
    "Ex. 1<br>\n",
    "tweet = \"Python is the best #Python #Programming #CodingTemple\"<br>\n",
    "Expected Output: [\"#Python\", \"#Programming\", \"#CodingTemple\"]<br>\n",
    "\n",
    "Ex. 2<br>\n",
    "tweet = \"I love my life! #blessed\"<br>\n",
    "Expected Output: [\"#bleesed\"]<br>\n",
    "\n",
    "Ex. 3<br>\n",
    "tweet = \"Bear Down\"<br>\n",
    "Expected Output: []<br>\n"
   ]
  },
  {
   "cell_type": "code",
   "execution_count": 94,
   "metadata": {},
   "outputs": [
    {
     "name": "stdout",
     "output_type": "stream",
     "text": [
      "#Python\n",
      "#Programming\n",
      "#CodingTemple\n"
     ]
    }
   ],
   "source": [
    "# re.findall(r'#', tweet)\n",
    "# for target_symbol (#) in target_symbols print target_symbol \n",
    "\n",
    "tweet = \"Python is the best #Python #Programming #CodingTemple\"\n",
    "target_symbols = re.findall(r'#\\w+', tweet)\n",
    "for target_symbol in target_symbols:\n",
    "    print(target_symbol)\n",
    "\n"
   ]
  },
  {
   "cell_type": "markdown",
   "metadata": {},
   "source": [
    "### Exercise 2"
   ]
  },
  {
   "cell_type": "markdown",
   "metadata": {},
   "source": [
    "Write a function that takes in a string and returns it is a Strong password or not. A strong password is at least 8 characters, contains at least one uppercase letter, one lowercase letter, one digit, and one special character (!@#$%^&*)<br>\n",
    "Ex. 1 <br>\n",
    "password = \"CodingTemple123!\"<br>\n",
    "Expected Output: True<br>\n",
    "\n",
    "Ex. 2 <br>\n",
    "password = \"password\"<br>\n",
    "Expected Output: False<br>\n",
    "\n",
    "Ex. 3 <br>\n",
    "password = \"@Bc12\"<br>\n",
    "Expected Output: False<br>"
   ]
  },
  {
   "cell_type": "code",
   "execution_count": 95,
   "metadata": {
    "scrolled": true
   },
   "outputs": [],
   "source": [
    "# email_pattern_a = re.compile('(?P<username>\\w+)@(?P<domain>\\w+.(org|com))$')\n",
    "# email_pattern_b = re.compile(\"\"\"\n",
    "# (?P<username>\\w+)             # Username - at least 1 up to unlimited characters\n",
    "# @                             # @ symbol - must be present\n",
    "# (?P<domain>\\w+.(org|com))$    # Domain - at least 1 up to unlimited characters, followed by a period, followed by org or com at the end.\n",
    "# \"\"\", re.X|re.M)\n",
    "\n",
    "\n",
    "# print(email_pattern_a.match('brians@codingtemple.com'))\n",
    "\n",
    "# Same pattern as the lecture but the pattern needs to include symbols, upper and lowercase, at least 8 characters\n",
    "# maybe grouping can solve this problem "
   ]
  },
  {
   "cell_type": "markdown",
   "metadata": {},
   "source": [
    "### Exercise 3"
   ]
  },
  {
   "cell_type": "markdown",
   "metadata": {},
   "source": [
    "Using the Python `open()` function, read in the `example.txt` file (attached in Google Classroom, make sure it is in the same folder as this notebook). Create a pattern that will find all of the dates in the text. Dates are in the format of YYYY-MM-DD. The pattern should have groups for year, month, and day. Using the `.finditer()` method, iterate over the dates and print in format of month/day/year<br>"
   ]
  },
  {
   "cell_type": "markdown",
   "metadata": {},
   "source": [
    "Output:\n",
    "```\n",
    "05/15/1990\n",
    "09/20/2015\n",
    "12/03/1985\n",
    "06/18/2010\n",
    "11/30/2002\n",
    "08/10/1978\n",
    "04/25/1992\n",
    "07/07/2019\n",
    "02/12/1980\n",
    "03/22/2005\n",
    "```"
   ]
  },
  {
   "cell_type": "code",
   "execution_count": 124,
   "metadata": {},
   "outputs": [
    {
     "name": "stdout",
     "output_type": "stream",
     "text": [
      "1990\n",
      "05\n",
      "15\n",
      "2015\n",
      "09\n",
      "20\n",
      "1985\n",
      "12\n",
      "03\n",
      "2010\n",
      "06\n",
      "18\n",
      "2002\n",
      "11\n",
      "30\n",
      "1978\n",
      "08\n",
      "10\n",
      "1992\n",
      "04\n",
      "25\n",
      "2019\n",
      "07\n",
      "07\n",
      "1980\n",
      "02\n",
      "12\n",
      "2005\n",
      "03\n",
      "22\n"
     ]
    }
   ],
   "source": [
    "with open('example.txt') as data_file:\n",
    "    data = data_file.read()\n",
    "    date_pattern = re.compile('\\d+[0-9]')\n",
    "    \n",
    "    for date in date_pattern.finditer(data):\n",
    "        print(date.group())\n",
    "\n",
    "#     # {month}/{day}/{year}\n",
    "\n",
    "\n",
    "\n",
    "\n"
   ]
  },
  {
   "cell_type": "code",
   "execution_count": null,
   "metadata": {},
   "outputs": [],
   "source": []
  }
 ],
 "metadata": {
  "kernelspec": {
   "display_name": "Python 3 (ipykernel)",
   "language": "python",
   "name": "python3"
  },
  "language_info": {
   "codemirror_mode": {
    "name": "ipython",
    "version": 3
   },
   "file_extension": ".py",
   "mimetype": "text/x-python",
   "name": "python",
   "nbconvert_exporter": "python",
   "pygments_lexer": "ipython3",
   "version": "3.10.9"
  }
 },
 "nbformat": 4,
 "nbformat_minor": 4
}
